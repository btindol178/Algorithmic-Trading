{
 "cells": [
  {
   "cell_type": "code",
   "execution_count": 7,
   "metadata": {},
   "outputs": [
    {
     "name": "stdout",
     "output_type": "stream",
     "text": [
      "C:\\Users\\btindol\\OneDrive - Stryker\\Linked In Learn\\Algorithmic Investing\\Algorithmic Trading & Quantitative Analysis using Python\n",
      "Requirement already satisfied: datetime in c:\\users\\btindol\\anaconda3\\lib\\site-packages (4.3)\n",
      "Requirement already satisfied: zope.interface in c:\\users\\btindol\\anaconda3\\lib\\site-packages (from datetime) (5.1.2)\n",
      "Requirement already satisfied: pytz in c:\\users\\btindol\\anaconda3\\lib\\site-packages (from datetime) (2020.1)\n",
      "Requirement already satisfied: setuptools in c:\\users\\btindol\\anaconda3\\lib\\site-packages (from zope.interface->datetime) (50.3.1.post20201107)\n"
     ]
    },
    {
     "name": "stderr",
     "output_type": "stream",
     "text": [
      "WARNING: You are using pip version 21.0.1; however, version 21.1.1 is available.\n",
      "You should consider upgrading via the 'c:\\users\\btindol\\anaconda3\\python.exe -m pip install --upgrade pip' command.\n"
     ]
    },
    {
     "name": "stdout",
     "output_type": "stream",
     "text": [
      "Requirement already satisfied: stocktrends in c:\\users\\btindol\\anaconda3\\lib\\site-packages (0.1.4)"
     ]
    },
    {
     "name": "stderr",
     "output_type": "stream",
     "text": [
      "WARNING: You are using pip version 21.0.1; however, version 21.1.1 is available.\n",
      "You should consider upgrading via the 'c:\\users\\btindol\\anaconda3\\python.exe -m pip install --upgrade pip' command.\n"
     ]
    },
    {
     "name": "stdout",
     "output_type": "stream",
     "text": [
      "\n"
     ]
    }
   ],
   "source": [
    "import yfinance as yf\n",
    "\n",
    "import os\n",
    "os.chdir('C:\\\\Users\\\\btindol\\\\OneDrive - Stryker\\\\Linked In Learn\\\\Algorithmic Investing\\Algorithmic Trading & Quantitative Analysis using Python')  \n",
    "print(os.getcwd())  # Prints the current working directory\n",
    "\n",
    "#####################################################################################################################################################\n",
    "#imports \n",
    "#!pip install yfinance \n",
    "#!pip install pandas \n",
    "#!pip install numpy\n",
    "#!pip install requests\n",
    "!pip install datetime\n",
    "#!pip install yahoofinancials\n",
    "!pip install stocktrends\n",
    "from yahoofinancials import YahooFinancials\n",
    "\n",
    "import pandas as pd\n",
    "import numpy as np\n",
    "import requests\n",
    "import datetime as dt\n",
    "import os\n",
    "import json \n",
    "from functools import reduce\n",
    "import statsmodels.api as sm\n",
    "from stocktrends import Renko\n",
    "import pandas as pd\n",
    "import numpy as np\n",
    "import requests\n",
    "import datetime as dt\n",
    "\n",
    "\n",
    "import matplotlib.pyplot as plt\n",
    "%matplotlib inline"
   ]
  },
  {
   "cell_type": "code",
   "execution_count": 32,
   "metadata": {},
   "outputs": [
    {
     "name": "stdout",
     "output_type": "stream",
     "text": [
      "[*********************100%***********************]  1 of 1 completed\n",
      "[*********************100%***********************]  1 of 1 completed\n"
     ]
    }
   ],
   "source": [
    "# More than 1 ticker\n",
    "stocks = ['BTC-USD','ETH-USD']\n",
    "end_date = (dt.date.today()).strftime('%Y-%m-%d')\n",
    "beg_date = (dt.date.today()-dt.timedelta(1825)).strftime('%Y-%m-%d') # 1825 is 5 years ish \n",
    "\n",
    "\n",
    "# Used to make a dataframe of percent change from the daily price data!!!\n",
    "def get_daily_returns(df):\n",
    "    daily_return = df.pct_change()\n",
    "    cols = daily_return.columns.tolist()\n",
    "    newcols = []\n",
    "    for j in range(0,len(cols)):\n",
    "        colz = cols[j] + \"_\" + \"percent_change\"\n",
    "\n",
    "        newcols.append(colz)\n",
    "    daily_return.columns = newcols               \n",
    "    return daily_return\n",
    "\n",
    "\n",
    "def get_stock_data(stocks, begin_date,end_date):\n",
    "    cl_price = pd.DataFrame()\n",
    "\n",
    "    # looping over tickers and creating a dataframe with closing prices\n",
    "    for ticker in stocks:\n",
    "        cl_price[ticker] = yf.download(ticker,beg_date,end_date)['Adj Close']\n",
    "\n",
    "    cl_price_plus_ret = get_daily_returns(cl_price)\n",
    "    final = cl_price.merge(cl_price_plus_ret, on='Date', how='left')\n",
    "    return final\n",
    "\n",
    "\n",
    "\n",
    "cl_price2 = get_stock_data(cl_price,beg_date,end_date)"
   ]
  },
  {
   "cell_type": "code",
   "execution_count": 33,
   "metadata": {},
   "outputs": [
    {
     "data": {
      "text/html": [
       "<div>\n",
       "<style scoped>\n",
       "    .dataframe tbody tr th:only-of-type {\n",
       "        vertical-align: middle;\n",
       "    }\n",
       "\n",
       "    .dataframe tbody tr th {\n",
       "        vertical-align: top;\n",
       "    }\n",
       "\n",
       "    .dataframe thead th {\n",
       "        text-align: right;\n",
       "    }\n",
       "</style>\n",
       "<table border=\"1\" class=\"dataframe\">\n",
       "  <thead>\n",
       "    <tr style=\"text-align: right;\">\n",
       "      <th></th>\n",
       "      <th>BTC-USD</th>\n",
       "      <th>ETH-USD</th>\n",
       "      <th>BTC-USD_percent_change</th>\n",
       "      <th>ETH-USD_percent_change</th>\n",
       "    </tr>\n",
       "    <tr>\n",
       "      <th>Date</th>\n",
       "      <th></th>\n",
       "      <th></th>\n",
       "      <th></th>\n",
       "      <th></th>\n",
       "    </tr>\n",
       "  </thead>\n",
       "  <tbody>\n",
       "    <tr>\n",
       "      <th>2016-05-11</th>\n",
       "      <td>452.727997</td>\n",
       "      <td>9.996280</td>\n",
       "      <td>NaN</td>\n",
       "      <td>NaN</td>\n",
       "    </tr>\n",
       "    <tr>\n",
       "      <th>2016-05-12</th>\n",
       "      <td>454.765991</td>\n",
       "      <td>10.057800</td>\n",
       "      <td>0.004502</td>\n",
       "      <td>0.006154</td>\n",
       "    </tr>\n",
       "    <tr>\n",
       "      <th>2016-05-13</th>\n",
       "      <td>455.670013</td>\n",
       "      <td>10.506600</td>\n",
       "      <td>0.001988</td>\n",
       "      <td>0.044622</td>\n",
       "    </tr>\n",
       "    <tr>\n",
       "      <th>2016-05-14</th>\n",
       "      <td>455.670990</td>\n",
       "      <td>10.239700</td>\n",
       "      <td>0.000002</td>\n",
       "      <td>-0.025403</td>\n",
       "    </tr>\n",
       "    <tr>\n",
       "      <th>2016-05-15</th>\n",
       "      <td>457.567993</td>\n",
       "      <td>9.962350</td>\n",
       "      <td>0.004163</td>\n",
       "      <td>-0.027086</td>\n",
       "    </tr>\n",
       "    <tr>\n",
       "      <th>...</th>\n",
       "      <td>...</td>\n",
       "      <td>...</td>\n",
       "      <td>...</td>\n",
       "      <td>...</td>\n",
       "    </tr>\n",
       "    <tr>\n",
       "      <th>2021-05-06</th>\n",
       "      <td>56396.515625</td>\n",
       "      <td>3490.880371</td>\n",
       "      <td>-0.017893</td>\n",
       "      <td>-0.009056</td>\n",
       "    </tr>\n",
       "    <tr>\n",
       "      <th>2021-05-07</th>\n",
       "      <td>57356.402344</td>\n",
       "      <td>3484.729004</td>\n",
       "      <td>0.017020</td>\n",
       "      <td>-0.001762</td>\n",
       "    </tr>\n",
       "    <tr>\n",
       "      <th>2021-05-08</th>\n",
       "      <td>58803.777344</td>\n",
       "      <td>3902.647705</td>\n",
       "      <td>0.025235</td>\n",
       "      <td>0.119929</td>\n",
       "    </tr>\n",
       "    <tr>\n",
       "      <th>2021-05-09</th>\n",
       "      <td>58232.316406</td>\n",
       "      <td>3928.844727</td>\n",
       "      <td>-0.009718</td>\n",
       "      <td>0.006713</td>\n",
       "    </tr>\n",
       "    <tr>\n",
       "      <th>2021-05-10</th>\n",
       "      <td>55522.292969</td>\n",
       "      <td>3997.522461</td>\n",
       "      <td>-0.046538</td>\n",
       "      <td>0.017480</td>\n",
       "    </tr>\n",
       "  </tbody>\n",
       "</table>\n",
       "<p>1822 rows × 4 columns</p>\n",
       "</div>"
      ],
      "text/plain": [
       "                 BTC-USD      ETH-USD  BTC-USD_percent_change  \\\n",
       "Date                                                            \n",
       "2016-05-11    452.727997     9.996280                     NaN   \n",
       "2016-05-12    454.765991    10.057800                0.004502   \n",
       "2016-05-13    455.670013    10.506600                0.001988   \n",
       "2016-05-14    455.670990    10.239700                0.000002   \n",
       "2016-05-15    457.567993     9.962350                0.004163   \n",
       "...                  ...          ...                     ...   \n",
       "2021-05-06  56396.515625  3490.880371               -0.017893   \n",
       "2021-05-07  57356.402344  3484.729004                0.017020   \n",
       "2021-05-08  58803.777344  3902.647705                0.025235   \n",
       "2021-05-09  58232.316406  3928.844727               -0.009718   \n",
       "2021-05-10  55522.292969  3997.522461               -0.046538   \n",
       "\n",
       "            ETH-USD_percent_change  \n",
       "Date                                \n",
       "2016-05-11                     NaN  \n",
       "2016-05-12                0.006154  \n",
       "2016-05-13                0.044622  \n",
       "2016-05-14               -0.025403  \n",
       "2016-05-15               -0.027086  \n",
       "...                            ...  \n",
       "2021-05-06               -0.009056  \n",
       "2021-05-07               -0.001762  \n",
       "2021-05-08                0.119929  \n",
       "2021-05-09                0.006713  \n",
       "2021-05-10                0.017480  \n",
       "\n",
       "[1822 rows x 4 columns]"
      ]
     },
     "execution_count": 33,
     "metadata": {},
     "output_type": "execute_result"
    }
   ],
   "source": [
    "cl_price2\n"
   ]
  },
  {
   "cell_type": "code",
   "execution_count": null,
   "metadata": {},
   "outputs": [],
   "source": []
  }
 ],
 "metadata": {
  "kernelspec": {
   "display_name": "Python 3",
   "language": "python",
   "name": "python3"
  },
  "language_info": {
   "codemirror_mode": {
    "name": "ipython",
    "version": 3
   },
   "file_extension": ".py",
   "mimetype": "text/x-python",
   "name": "python",
   "nbconvert_exporter": "python",
   "pygments_lexer": "ipython3",
   "version": "3.8.5"
  }
 },
 "nbformat": 4,
 "nbformat_minor": 4
}
